{
 "cells": [
  {
   "cell_type": "code",
   "execution_count": 2,
   "metadata": {},
   "outputs": [],
   "source": [
    "import pandas as pd\n",
    "import json\n",
    "\n",
    "\n",
    "def make_dict(df):\n",
    "    user_dict={}\n",
    "    item_dict={}\n",
    "    user_list = list(set(df['reviewerID']))\n",
    "    item_list = list(set(df['asin']))\n",
    "    \n",
    "    for i,j in enumerate(user_list):\n",
    "        user_dict[j] = i\n",
    "    for i,j in enumerate(item_list):\n",
    "        item_dict[j] = i\n",
    "    \n",
    "    with open('d1_user_dict.json','w') as f:\n",
    "        json.dump(user_dict, f)\n",
    "    with open('d1_item_dict.json','w') as f:\n",
    "        json.dump(item_dict, f)\n",
    "    \n",
    "    return user_dict, item_dict\n",
    "\n",
    "\n",
    "def preprocess(df1, df2, user_dict, item_dict):\n",
    "    df_test = df1.copy()\n",
    "    df_train = df2.copy()\n",
    "    \n",
    "    df_test['reviewerID'] = df_test['reviewerID'].apply(lambda x:user_dict[x])\n",
    "    df_test['asin'] = df_test['asin'].apply(lambda x:item_dict[x])\n",
    "    df_train['reviewerID'] = df_train['reviewerID'].apply(lambda x:user_dict[x])\n",
    "    df_train['asin'] = df_train['asin'].apply(lambda x:item_dict[x])\n",
    "    \n",
    "    df_test.to_csv('d1.test', index=False, header=False, sep=' ')\n",
    "    df_train.to_csv('d1.train', index=False, header=False, sep=' ')\n",
    "\n",
    "\n",
    "file='data.json'\n",
    "df = pd.read_json(file)\n",
    "df.drop(['reviewerName','helpful','reviewText','summary','unixReviewTime','reviewTime'], axis=1, inplace=True)\n",
    "df = df.iloc[:800000]\n",
    "df_test = df[df['reviewerID'].duplicated() & df['asin'].duplicated()].iloc[:400000:2]\n",
    "df_train = pd.concat([df[df['reviewerID'].duplicated() & df['asin'].duplicated()].iloc[400000:],df[df['reviewerID'].duplicated() & df['asin'].duplicated()].iloc[1:400000:2] ,df[~df['reviewerID'].duplicated() | ~df['asin'].duplicated()]])\n",
    "user_dict, item_dict = make_dict(df)\n",
    "preprocess(df_test, df_train, user_dict, item_dict) \n",
    "\n"
   ]
  }
 ],
 "metadata": {
  "kernelspec": {
   "display_name": "Python 3",
   "language": "python",
   "name": "python3"
  },
  "language_info": {
   "codemirror_mode": {
    "name": "ipython",
    "version": 3
   },
   "file_extension": ".py",
   "mimetype": "text/x-python",
   "name": "python",
   "nbconvert_exporter": "python",
   "pygments_lexer": "ipython3",
   "version": "3.7.4"
  }
 },
 "nbformat": 4,
 "nbformat_minor": 2
}
